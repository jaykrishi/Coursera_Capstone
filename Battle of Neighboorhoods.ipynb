{
    "cells": [
        {
            "cell_type": "markdown",
            "metadata": {
                "collapsed": true
            },
            "source": "# The Battle of Neighborhoods"
        },
        {
            "cell_type": "markdown",
            "metadata": {},
            "source": " ### Introduction and Business Problem"
        },
        {
            "cell_type": "markdown",
            "metadata": {},
            "source": "The City of New York, is the most populous city in the United States. New York City's demographics show that it is a large and ethnically diverse metropolis. It is the largest city in the United States with a long history of international immigration.Over the last decade the city has been growing faster and is by far the leading metropolitan gateway for legal immigrants admitted into the United States.\nWith it's diverse culture , comes diverse food items.The City of New York is famous for its excelllent cuisine. It's food culture includes an array of international cuisines like Chinese,Indian,French etc, influenced by the city's immigrant history."
        },
        {
            "cell_type": "markdown",
            "metadata": {},
            "source": "In this project , we will list and visualize all the neighborhoods of New York City that has great Italian restaurants."
        },
        {
            "cell_type": "markdown",
            "metadata": {},
            "source": "### Target Audience"
        },
        {
            "cell_type": "markdown",
            "metadata": {},
            "source": "This would interest anyone who wants to find great Italian restaurants in New York city."
        },
        {
            "cell_type": "markdown",
            "metadata": {},
            "source": "### Data"
        },
        {
            "cell_type": "markdown",
            "metadata": {},
            "source": "For this project we need the following data :<br>\n<ul>\n    <li>New York City data that contains list Boroughs, Neighborhoods along with their latitude and longitude</li>\n    <ul>\n        <li>Data source : https://cocl.us/new_york_dataset</li>\n        <li>Description : This data set contains the required information which we will use to explore various neighborhoods of New York city.</li>\n    </ul>\n    <li>Italian resturants in each neighborhood of New York city</li>\n    <ul>\n        <li>Data source : Fousquare API</li>\n        <li>Description : By using this API we will get all the venues in each neighborhood. We can filter these venues to get only Italian restaurants.</li>\n    </ul>\n    <li>GeoSpace data</li>\n    <ul>\n        <li>Data source : https://data.cityofnewyork.us/City-Government/Borough-Boundaries/tqmj-j8zm</li>\n        <li>Description : By using this geo space data we will get the New york Borough boundaries that will help us visualize choropleth map.</li>\n    </ul>\n    </ul>\n    \n        "
        },
        {
            "cell_type": "code",
            "execution_count": null,
            "metadata": {},
            "outputs": [],
            "source": ""
        }
    ],
    "metadata": {
        "kernelspec": {
            "display_name": "Python 3.6",
            "language": "python",
            "name": "python3"
        },
        "language_info": {
            "codemirror_mode": {
                "name": "ipython",
                "version": 3
            },
            "file_extension": ".py",
            "mimetype": "text/x-python",
            "name": "python",
            "nbconvert_exporter": "python",
            "pygments_lexer": "ipython3",
            "version": "3.6.9"
        }
    },
    "nbformat": 4,
    "nbformat_minor": 1
}